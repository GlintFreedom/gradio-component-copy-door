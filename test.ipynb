{
 "cells": [
  {
   "cell_type": "code",
   "execution_count": 1,
   "id": "f19ce4d0-e316-4af9-b907-db6aa4c3a30f",
   "metadata": {
    "execution": {
     "iopub.execute_input": "2025-01-19T14:03:52.005317Z",
     "iopub.status.busy": "2025-01-19T14:03:52.005164Z",
     "iopub.status.idle": "2025-01-19T14:03:57.015742Z",
     "shell.execute_reply": "2025-01-19T14:03:57.015008Z",
     "shell.execute_reply.started": "2025-01-19T14:03:52.005301Z"
    }
   },
   "outputs": [
    {
     "name": "stdout",
     "output_type": "stream",
     "text": [
      "Looking in indexes: https://mirrors.cloud.aliyuncs.com/pypi/simple\n",
      "Requirement already satisfied: gradio in /usr/local/lib/python3.10/site-packages (5.9.1)\n",
      "Requirement already satisfied: aiofiles<24.0,>=22.0 in /usr/local/lib/python3.10/site-packages (from gradio) (23.2.1)\n",
      "Requirement already satisfied: anyio<5.0,>=3.0 in /usr/local/lib/python3.10/site-packages (from gradio) (4.7.0)\n",
      "Requirement already satisfied: fastapi<1.0,>=0.115.2 in /usr/local/lib/python3.10/site-packages (from gradio) (0.115.6)\n",
      "Requirement already satisfied: ffmpy in /usr/local/lib/python3.10/site-packages (from gradio) (0.5.0)\n",
      "Requirement already satisfied: gradio-client==1.5.2 in /usr/local/lib/python3.10/site-packages (from gradio) (1.5.2)\n",
      "Requirement already satisfied: httpx>=0.24.1 in /usr/local/lib/python3.10/site-packages (from gradio) (0.28.0)\n",
      "Requirement already satisfied: huggingface-hub>=0.25.1 in /usr/local/lib/python3.10/site-packages (from gradio) (0.25.2)\n",
      "Requirement already satisfied: jinja2<4.0 in /usr/local/lib/python3.10/site-packages (from gradio) (3.1.4)\n",
      "Requirement already satisfied: markupsafe~=2.0 in /usr/local/lib/python3.10/site-packages (from gradio) (2.1.5)\n",
      "Requirement already satisfied: numpy<3.0,>=1.0 in /usr/local/lib/python3.10/site-packages (from gradio) (1.26.4)\n",
      "Requirement already satisfied: orjson~=3.0 in /usr/local/lib/python3.10/site-packages (from gradio) (3.10.13)\n",
      "Requirement already satisfied: packaging in /usr/local/lib/python3.10/site-packages (from gradio) (24.2)\n",
      "Requirement already satisfied: pandas<3.0,>=1.0 in /usr/local/lib/python3.10/site-packages (from gradio) (2.2.3)\n",
      "Requirement already satisfied: pillow<12.0,>=8.0 in /usr/local/lib/python3.10/site-packages (from gradio) (11.0.0)\n",
      "Requirement already satisfied: pydantic>=2.0 in /usr/local/lib/python3.10/site-packages (from gradio) (2.10.4)\n",
      "Requirement already satisfied: pydub in /usr/local/lib/python3.10/site-packages (from gradio) (0.25.1)\n",
      "Requirement already satisfied: python-multipart>=0.0.18 in /usr/local/lib/python3.10/site-packages (from gradio) (0.0.20)\n",
      "Requirement already satisfied: pyyaml<7.0,>=5.0 in /usr/local/lib/python3.10/site-packages (from gradio) (6.0.2)\n",
      "Requirement already satisfied: ruff>=0.2.2 in /usr/local/lib/python3.10/site-packages (from gradio) (0.8.5)\n",
      "Requirement already satisfied: safehttpx<0.2.0,>=0.1.6 in /usr/local/lib/python3.10/site-packages (from gradio) (0.1.6)\n",
      "Requirement already satisfied: semantic-version~=2.0 in /usr/local/lib/python3.10/site-packages (from gradio) (2.10.0)\n",
      "Requirement already satisfied: starlette<1.0,>=0.40.0 in /usr/local/lib/python3.10/site-packages (from gradio) (0.41.3)\n",
      "Requirement already satisfied: tomlkit<0.14.0,>=0.12.0 in /usr/local/lib/python3.10/site-packages (from gradio) (0.13.2)\n",
      "Requirement already satisfied: typer<1.0,>=0.12 in /usr/local/lib/python3.10/site-packages (from gradio) (0.15.1)\n",
      "Requirement already satisfied: typing-extensions~=4.0 in /usr/local/lib/python3.10/site-packages (from gradio) (4.12.2)\n",
      "Requirement already satisfied: uvicorn>=0.14.0 in /usr/local/lib/python3.10/site-packages (from gradio) (0.34.0)\n",
      "Requirement already satisfied: fsspec in /usr/local/lib/python3.10/site-packages (from gradio-client==1.5.2->gradio) (2024.6.1)\n",
      "Requirement already satisfied: websockets<15.0,>=10.0 in /usr/local/lib/python3.10/site-packages (from gradio-client==1.5.2->gradio) (14.1)\n",
      "Requirement already satisfied: exceptiongroup>=1.0.2 in /usr/local/lib/python3.10/site-packages (from anyio<5.0,>=3.0->gradio) (1.2.2)\n",
      "Requirement already satisfied: idna>=2.8 in /usr/local/lib/python3.10/site-packages (from anyio<5.0,>=3.0->gradio) (3.10)\n",
      "Requirement already satisfied: sniffio>=1.1 in /usr/local/lib/python3.10/site-packages (from anyio<5.0,>=3.0->gradio) (1.3.1)\n",
      "Requirement already satisfied: certifi in /usr/local/lib/python3.10/site-packages (from httpx>=0.24.1->gradio) (2024.8.30)\n",
      "Requirement already satisfied: httpcore==1.* in /usr/local/lib/python3.10/site-packages (from httpx>=0.24.1->gradio) (1.0.7)\n",
      "Requirement already satisfied: h11<0.15,>=0.13 in /usr/local/lib/python3.10/site-packages (from httpcore==1.*->httpx>=0.24.1->gradio) (0.14.0)\n",
      "Requirement already satisfied: filelock in /usr/local/lib/python3.10/site-packages (from huggingface-hub>=0.25.1->gradio) (3.16.1)\n",
      "Requirement already satisfied: requests in /usr/local/lib/python3.10/site-packages (from huggingface-hub>=0.25.1->gradio) (2.32.3)\n",
      "Requirement already satisfied: tqdm>=4.42.1 in /usr/local/lib/python3.10/site-packages (from huggingface-hub>=0.25.1->gradio) (4.67.0)\n",
      "Requirement already satisfied: python-dateutil>=2.8.2 in /usr/local/lib/python3.10/site-packages (from pandas<3.0,>=1.0->gradio) (2.9.0.post0)\n",
      "Requirement already satisfied: pytz>=2020.1 in /usr/local/lib/python3.10/site-packages (from pandas<3.0,>=1.0->gradio) (2024.2)\n",
      "Requirement already satisfied: tzdata>=2022.7 in /usr/local/lib/python3.10/site-packages (from pandas<3.0,>=1.0->gradio) (2024.2)\n",
      "Requirement already satisfied: annotated-types>=0.6.0 in /usr/local/lib/python3.10/site-packages (from pydantic>=2.0->gradio) (0.7.0)\n",
      "Requirement already satisfied: pydantic-core==2.27.2 in /usr/local/lib/python3.10/site-packages (from pydantic>=2.0->gradio) (2.27.2)\n",
      "Requirement already satisfied: click>=8.0.0 in /usr/local/lib/python3.10/site-packages (from typer<1.0,>=0.12->gradio) (8.1.7)\n",
      "Requirement already satisfied: shellingham>=1.3.0 in /usr/local/lib/python3.10/site-packages (from typer<1.0,>=0.12->gradio) (1.5.4)\n",
      "Requirement already satisfied: rich>=10.11.0 in /usr/local/lib/python3.10/site-packages (from typer<1.0,>=0.12->gradio) (13.9.4)\n",
      "Requirement already satisfied: six>=1.5 in /usr/local/lib/python3.10/site-packages (from python-dateutil>=2.8.2->pandas<3.0,>=1.0->gradio) (1.16.0)\n",
      "Requirement already satisfied: markdown-it-py>=2.2.0 in /usr/local/lib/python3.10/site-packages (from rich>=10.11.0->typer<1.0,>=0.12->gradio) (3.0.0)\n",
      "Requirement already satisfied: pygments<3.0.0,>=2.13.0 in /usr/local/lib/python3.10/site-packages (from rich>=10.11.0->typer<1.0,>=0.12->gradio) (2.18.0)\n",
      "Requirement already satisfied: charset-normalizer<4,>=2 in /usr/local/lib/python3.10/site-packages (from requests->huggingface-hub>=0.25.1->gradio) (3.4.0)\n",
      "Requirement already satisfied: urllib3<3,>=1.21.1 in /usr/local/lib/python3.10/site-packages (from requests->huggingface-hub>=0.25.1->gradio) (2.2.3)\n",
      "Requirement already satisfied: mdurl~=0.1 in /usr/local/lib/python3.10/site-packages (from markdown-it-py>=2.2.0->rich>=10.11.0->typer<1.0,>=0.12->gradio) (0.1.2)\n",
      "\u001b[33mDEPRECATION: pytorch-lightning 1.7.7 has a non-standard dependency specifier torch>=1.9.*. pip 24.0 will enforce this behaviour change. A possible replacement is to upgrade to a newer version of pytorch-lightning or contact the author to suggest that they release a version with a conforming dependency specifiers. Discussion can be found at https://github.com/pypa/pip/issues/12063\u001b[0m\u001b[33m\n",
      "\u001b[0m\u001b[33mWARNING: Running pip as the 'root' user can result in broken permissions and conflicting behaviour with the system package manager. It is recommended to use a virtual environment instead: https://pip.pypa.io/warnings/venv\u001b[0m\u001b[33m\n",
      "\u001b[0m\n",
      "\u001b[1m[\u001b[0m\u001b[34;49mnotice\u001b[0m\u001b[1;39;49m]\u001b[0m\u001b[39;49m A new release of pip is available: \u001b[0m\u001b[31;49m23.3.2\u001b[0m\u001b[39;49m -> \u001b[0m\u001b[32;49m24.3.1\u001b[0m\n",
      "\u001b[1m[\u001b[0m\u001b[34;49mnotice\u001b[0m\u001b[1;39;49m]\u001b[0m\u001b[39;49m To update, run: \u001b[0m\u001b[32;49mpip install --upgrade pip\u001b[0m\n",
      "Note: you may need to restart the kernel to use updated packages.\n"
     ]
    }
   ],
   "source": [
    "pip install gradio"
   ]
  },
  {
   "cell_type": "code",
   "execution_count": 2,
   "id": "b39e116d-9326-433c-8a1d-ca71b9bbcbd8",
   "metadata": {
    "execution": {
     "iopub.execute_input": "2025-01-19T14:03:57.017981Z",
     "iopub.status.busy": "2025-01-19T14:03:57.017467Z",
     "iopub.status.idle": "2025-01-19T14:03:57.021127Z",
     "shell.execute_reply": "2025-01-19T14:03:57.020485Z",
     "shell.execute_reply.started": "2025-01-19T14:03:57.017955Z"
    },
    "tags": []
   },
   "outputs": [],
   "source": [
    "import os\n",
    "os.environ['GRADIO_ROOT_PATH'] = f\"/{os.environ['JUPYTER_NAME']}/proxy/7860\""
   ]
  },
  {
   "cell_type": "code",
   "execution_count": 3,
   "id": "04374de7-9463-4b04-9cc1-4eedd1441ba4",
   "metadata": {
    "ExecutionIndicator": {
     "show": true
    },
    "execution": {
     "iopub.execute_input": "2025-01-19T14:03:57.022253Z",
     "iopub.status.busy": "2025-01-19T14:03:57.021980Z",
     "iopub.status.idle": "2025-01-19T14:04:04.996306Z",
     "shell.execute_reply": "2025-01-19T14:04:04.995748Z",
     "shell.execute_reply.started": "2025-01-19T14:03:57.022232Z"
    },
    "tags": []
   },
   "outputs": [
    {
     "name": "stderr",
     "output_type": "stream",
     "text": [
      "2025-01-19 22:04:02.385162: I tensorflow/core/util/port.cc:113] oneDNN custom operations are on. You may see slightly different numerical results due to floating-point round-off errors from different computation orders. To turn them off, set the environment variable `TF_ENABLE_ONEDNN_OPTS=0`.\n",
      "2025-01-19 22:04:02.423251: I tensorflow/core/platform/cpu_feature_guard.cc:210] This TensorFlow binary is optimized to use available CPU instructions in performance-critical operations.\n",
      "To enable the following instructions: AVX2 AVX512F AVX512_VNNI FMA, in other operations, rebuild TensorFlow with the appropriate compiler flags.\n",
      "2025-01-19 22:04:03.215762: W tensorflow/compiler/tf2tensorrt/utils/py_utils.cc:38] TF-TRT Warning: Could not find TensorRT\n"
     ]
    }
   ],
   "source": [
    "try:\n",
    "    demo.close()\n",
    "except NameError:\n",
    "    pass\n",
    "\n",
    "import gradio as gr\n",
    "from openai import OpenAI\n",
    "from transformers import AutoModelForCausalLM, AutoTokenizer\n",
    "import modelscope\n",
    "from modelscope import AutoModelForCausalLM, AutoTokenizer"
   ]
  },
  {
   "cell_type": "code",
   "execution_count": 4,
   "id": "79173b9b-f4d0-4e3f-8b75-97cd2d97470f",
   "metadata": {
    "ExecutionIndicator": {
     "show": true
    },
    "execution": {
     "iopub.execute_input": "2025-01-19T14:04:04.997519Z",
     "iopub.status.busy": "2025-01-19T14:04:04.997026Z",
     "iopub.status.idle": "2025-01-19T14:04:05.001695Z",
     "shell.execute_reply": "2025-01-19T14:04:05.001272Z",
     "shell.execute_reply.started": "2025-01-19T14:04:04.997500Z"
    },
    "tags": []
   },
   "outputs": [],
   "source": [
    "def system_message():\n",
    "    return \"假设你是一个前端开发资深工程师，擅长对源码进行组件化。\"\n",
    "\n",
    "\n",
    "def generate_prompts(file):\n",
    "    if not file:\n",
    "        return \"未上传文件\", \"\", \"\"\n",
    "\n",
    "    print(type(file))\n",
    "    file_content = file.content.decode(\"utf-8\")\n",
    "\n",
    "    description = \"\"\"\n",
    "    请将网页源码中的组件分离出来，要求输出封装好的，即插即用的js和css代码，能够让我用id为'component'的组件中直接调用。\n",
    "    \"\"\"\n",
    "\n",
    "    with open('prompt_files/demo0.html', 'r', encoding='utf-8') as file:\n",
    "        demo_init = file.read()\n",
    "    with open('prompt_files/demo0.js', 'r', encoding='utf-8') as file:\n",
    "        demo_js = file.read()\n",
    "    with open('prompt_files/demo0.css', 'r', encoding='utf-8') as file:\n",
    "        demo_css = file.read()\n",
    "\n",
    "    demo_prompt = f\"例如：\\n源码为：\\n {demo_init} \\n你应当组件化的js代码为：\\n {demo_js} \\n你应当组件化的css代码为：\\n {demo_css} \\n\"\n",
    "\n",
    "    request = f\"\\n你需要转换的源码如下\\n {file_content} \\n\"\n",
    "    return description + demo_prompt + request"
   ]
  },
  {
   "cell_type": "code",
   "execution_count": 5,
   "id": "7b183a59-cc4d-41c4-b19f-15f534d040f5",
   "metadata": {
    "ExecutionIndicator": {
     "show": true
    },
    "execution": {
     "iopub.execute_input": "2025-01-19T14:04:05.002364Z",
     "iopub.status.busy": "2025-01-19T14:04:05.002152Z",
     "iopub.status.idle": "2025-01-19T14:05:07.830384Z",
     "shell.execute_reply": "2025-01-19T14:05:07.829866Z",
     "shell.execute_reply.started": "2025-01-19T14:04:05.002349Z"
    },
    "tags": []
   },
   "outputs": [
    {
     "name": "stdout",
     "output_type": "stream",
     "text": [
      "Downloading Model to directory: /mnt/workspace/.cache/modelscope/Qwen/Qwen2.5-Coder-32B-Instruct\n"
     ]
    },
    {
     "name": "stderr",
     "output_type": "stream",
     "text": [
      "2025-01-19 22:04:05,970 - modelscope - INFO - Creating symbolic link [/mnt/workspace/.cache/modelscope/Qwen/Qwen2.5-Coder-32B-Instruct].\n",
      "2025-01-19 22:04:05,970 - modelscope - WARNING - Failed to create symbolic link /mnt/workspace/.cache/modelscope/Qwen/Qwen2.5-Coder-32B-Instruct for /mnt/workspace/.cache/modelscope/Qwen/Qwen2___5-Coder-32B-Instruct.\n"
     ]
    },
    {
     "data": {
      "application/vnd.jupyter.widget-view+json": {
       "model_id": "3581122939384fe78917f5a4ee1e60db",
       "version_major": 2,
       "version_minor": 0
      },
      "text/plain": [
       "Loading checkpoint shards:   0%|          | 0/14 [00:00<?, ?it/s]"
      ]
     },
     "metadata": {},
     "output_type": "display_data"
    },
    {
     "name": "stderr",
     "output_type": "stream",
     "text": [
      "Some parameters are on the meta device because they were offloaded to the disk and cpu.\n"
     ]
    },
    {
     "name": "stdout",
     "output_type": "stream",
     "text": [
      "Downloading Model to directory: /mnt/workspace/.cache/modelscope/Qwen/Qwen2.5-Coder-32B-Instruct\n"
     ]
    },
    {
     "name": "stderr",
     "output_type": "stream",
     "text": [
      "2025-01-19 22:05:07,545 - modelscope - INFO - Creating symbolic link [/mnt/workspace/.cache/modelscope/Qwen/Qwen2.5-Coder-32B-Instruct].\n",
      "2025-01-19 22:05:07,546 - modelscope - WARNING - Failed to create symbolic link /mnt/workspace/.cache/modelscope/Qwen/Qwen2.5-Coder-32B-Instruct for /mnt/workspace/.cache/modelscope/Qwen/Qwen2___5-Coder-32B-Instruct.\n"
     ]
    }
   ],
   "source": [
    "MODEL_NAME = \"Qwen/Qwen2.5-Coder-32B-Instruct\"\n",
    "model = AutoModelForCausalLM.from_pretrained(\n",
    "    MODEL_NAME,\n",
    "    torch_dtype=\"auto\",\n",
    "    device_map=\"auto\"\n",
    ")\n",
    "tokenizer = AutoTokenizer.from_pretrained(MODEL_NAME)"
   ]
  },
  {
   "cell_type": "code",
   "execution_count": 6,
   "id": "743cc598-3654-455d-866a-06a9d026a635",
   "metadata": {
    "ExecutionIndicator": {
     "show": true
    },
    "execution": {
     "iopub.execute_input": "2025-01-19T14:05:07.831321Z",
     "iopub.status.busy": "2025-01-19T14:05:07.831062Z",
     "iopub.status.idle": "2025-01-19T14:05:07.836558Z",
     "shell.execute_reply": "2025-01-19T14:05:07.836084Z",
     "shell.execute_reply.started": "2025-01-19T14:05:07.831304Z"
    },
    "tags": []
   },
   "outputs": [],
   "source": [
    "# 处理上传文件并生成代码\n",
    "def generate_code(image, file):\n",
    "    # 构造 LLM 输入\n",
    "    messages = [\n",
    "        {\"role\": \"system\", \"content\": system_message()},\n",
    "        {\"role\": \"user\", \"content\": generate_prompts(file)}\n",
    "    ]\n",
    "\n",
    "    # 生成 组件化 代码\n",
    "    text = tokenizer.apply_chat_template(\n",
    "        messages,\n",
    "        tokenize=False,\n",
    "        add_generation_prompt=True\n",
    "    )\n",
    "    model_inputs = tokenizer([text], return_tensors=\"pt\").to(model.device)\n",
    "\n",
    "    generated_ids = model.generate(\n",
    "        **model_inputs,\n",
    "        max_new_tokens=512\n",
    "    )\n",
    "    generated_ids = [\n",
    "        output_ids[len(input_ids):] for input_ids, output_ids in zip(model_inputs.input_ids, generated_ids)\n",
    "    ]\n",
    "\n",
    "    # TODO: 拆分成js + css\n",
    "    response = tokenizer.batch_decode(generated_ids, skip_special_tokens=True)[0]\n",
    "\n",
    "    return result[0]['generated_text'], result[0]['generated_text']"
   ]
  },
  {
   "cell_type": "code",
   "execution_count": 7,
   "id": "5c6b0f7f-b2d7-491d-aff2-03d14f9738bf",
   "metadata": {
    "ExecutionIndicator": {
     "show": true
    },
    "execution": {
     "iopub.execute_input": "2025-01-19T14:05:07.837957Z",
     "iopub.status.busy": "2025-01-19T14:05:07.837739Z",
     "iopub.status.idle": "2025-01-19T14:05:08.159539Z",
     "shell.execute_reply": "2025-01-19T14:05:08.159090Z",
     "shell.execute_reply.started": "2025-01-19T14:05:07.837941Z"
    },
    "tags": []
   },
   "outputs": [
    {
     "name": "stdout",
     "output_type": "stream",
     "text": [
      "* Running on local URL:  http://127.0.0.1:7860\n",
      "\n",
      "To create a public link, set `share=True` in `launch()`.\n"
     ]
    },
    {
     "data": {
      "text/html": [
       "<div><iframe src=\"http://127.0.0.1:7860/\" width=\"100%\" height=\"500\" allow=\"autoplay; camera; microphone; clipboard-read; clipboard-write;\" frameborder=\"0\" allowfullscreen></iframe></div>"
      ],
      "text/plain": [
       "<IPython.core.display.HTML object>"
      ]
     },
     "metadata": {},
     "output_type": "display_data"
    },
    {
     "data": {
      "text/plain": []
     },
     "execution_count": 7,
     "metadata": {},
     "output_type": "execute_result"
    },
    {
     "name": "stderr",
     "output_type": "stream",
     "text": [
      "Traceback (most recent call last):\n",
      "  File \"/usr/local/lib/python3.10/site-packages/gradio/queueing.py\", line 625, in process_events\n",
      "    response = await route_utils.call_process_api(\n",
      "  File \"/usr/local/lib/python3.10/site-packages/gradio/route_utils.py\", line 322, in call_process_api\n",
      "    output = await app.get_blocks().process_api(\n",
      "  File \"/usr/local/lib/python3.10/site-packages/gradio/blocks.py\", line 2047, in process_api\n",
      "    result = await self.call_function(\n",
      "  File \"/usr/local/lib/python3.10/site-packages/gradio/blocks.py\", line 1594, in call_function\n",
      "    prediction = await anyio.to_thread.run_sync(  # type: ignore\n",
      "  File \"/usr/local/lib/python3.10/site-packages/anyio/to_thread.py\", line 56, in run_sync\n",
      "    return await get_async_backend().run_sync_in_worker_thread(\n",
      "  File \"/usr/local/lib/python3.10/site-packages/anyio/_backends/_asyncio.py\", line 2505, in run_sync_in_worker_thread\n",
      "    return await future\n",
      "  File \"/usr/local/lib/python3.10/site-packages/anyio/_backends/_asyncio.py\", line 1005, in run\n",
      "    result = context.run(func, *args)\n",
      "  File \"/usr/local/lib/python3.10/site-packages/gradio/utils.py\", line 869, in wrapper\n",
      "    response = f(*args, **kwargs)\n",
      "  File \"/tmp/ipykernel_55260/4074200065.py\", line 6, in generate_code\n",
      "    {\"role\": \"user\", \"content\": generate_prompts(file)}\n",
      "  File \"/tmp/ipykernel_55260/2834382873.py\", line 10, in generate_prompts\n",
      "    file_content = file.content.decode(\"utf-8\")\n",
      "AttributeError: 'NamedString' object has no attribute 'content'\n"
     ]
    }
   ],
   "source": [
    "# 构建 Gradio 界面\n",
    "with gr.Blocks(css=\".file-input { height: 30px !important; }\") as demo:\n",
    "    gr.Markdown(\"<center><h1>组件复制门</h1></center>\")\n",
    "    with gr.Row():\n",
    "        with gr.Column(scale=1):\n",
    "            gr.Markdown(\"### 输入您想提取的组件截图和源码\")\n",
    "            image_input = gr.Image(label=\"上传图片\")\n",
    "            file_input = gr.File(label=\"上传文件\", interactive=True, container=False,\n",
    "                                 elem_classes=\"file-input\")\n",
    "            submit_btn = gr.Button(\"提交\")\n",
    "\n",
    "        with gr.Column(scale=1):\n",
    "            gr.Markdown(\"### 封装组件表现效果\")\n",
    "            # python_output = gr.Textbox(label=\"Python 运行结果\", interactive=False)\n",
    "\n",
    "    with gr.Row():\n",
    "        with gr.Column():\n",
    "            gr.Markdown(\"### 封装的 JS 代码\")\n",
    "            generated_ans_js = gr.Code(label=\"JavaScript 代码\", language=\"javascript\")\n",
    "\n",
    "        with gr.Column():\n",
    "            gr.Markdown(\"### 封装的 CSS 代码\")\n",
    "            generated_ans_css = gr.Code(label=\"CSS 代码\", language=\"css\")\n",
    "\n",
    "    # 绑定交互逻辑\n",
    "    submit_btn.click(generate_code, inputs=[image_input, file_input],\n",
    "                     outputs=[generated_ans_js, generated_ans_css])\n",
    "\n",
    "# 运行 Gradio 应用\n",
    "demo.launch()"
   ]
  }
 ],
 "metadata": {
  "kernelspec": {
   "display_name": "Python 3 (ipykernel)",
   "language": "python",
   "name": "python3"
  },
  "language_info": {
   "codemirror_mode": {
    "name": "ipython",
    "version": 3
   },
   "file_extension": ".py",
   "mimetype": "text/x-python",
   "name": "python",
   "nbconvert_exporter": "python",
   "pygments_lexer": "ipython3",
   "version": "3.10.14"
  }
 },
 "nbformat": 4,
 "nbformat_minor": 5
}
