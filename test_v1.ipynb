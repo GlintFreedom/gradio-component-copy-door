{
 "cells": [
  {
   "cell_type": "markdown",
   "id": "58be0e68-6fcf-44d1-a456-5f055e09bad5",
   "metadata": {},
   "source": [
    "## 简单说明\n",
    "\n",
    "v1版本，实现了extractor和optimizer的css、js组件化，可支持人机交互修改css、js。"
   ]
  },
  {
   "cell_type": "code",
   "execution_count": 1,
   "id": "f19ce4d0-e316-4af9-b907-db6aa4c3a30f",
   "metadata": {
    "ExecutionIndicator": {
     "show": true
    },
    "execution": {
     "iopub.execute_input": "2025-01-20T09:15:41.307214Z",
     "iopub.status.busy": "2025-01-20T09:15:41.306958Z",
     "iopub.status.idle": "2025-01-20T09:15:50.559905Z",
     "shell.execute_reply": "2025-01-20T09:15:50.559173Z",
     "shell.execute_reply.started": "2025-01-20T09:15:41.307195Z"
    },
    "tags": []
   },
   "outputs": [
    {
     "name": "stderr",
     "output_type": "stream",
     "text": [
      "2025-01-20 17:15:47.628835: I tensorflow/core/util/port.cc:113] oneDNN custom operations are on. You may see slightly different numerical results due to floating-point round-off errors from different computation orders. To turn them off, set the environment variable `TF_ENABLE_ONEDNN_OPTS=0`.\n",
      "2025-01-20 17:15:47.671890: I tensorflow/core/platform/cpu_feature_guard.cc:210] This TensorFlow binary is optimized to use available CPU instructions in performance-critical operations.\n",
      "To enable the following instructions: AVX2 AVX512F AVX512_VNNI FMA, in other operations, rebuild TensorFlow with the appropriate compiler flags.\n",
      "2025-01-20 17:15:48.716170: W tensorflow/compiler/tf2tensorrt/utils/py_utils.cc:38] TF-TRT Warning: Could not find TensorRT\n"
     ]
    }
   ],
   "source": [
    "import os\n",
    "import yaml\n",
    "import re\n",
    "import gc\n",
    "import torch\n",
    "import gradio as gr\n",
    "from qwen_vl_utils import process_vision_info\n",
    "from modelscope import AutoTokenizer, AutoModelForCausalLM, Qwen2VLForConditionalGeneration, AutoProcessor\n",
    "os.environ['GRADIO_ROOT_PATH'] = f\"/{os.environ['JUPYTER_NAME']}/proxy/7860\""
   ]
  },
  {
   "cell_type": "code",
   "execution_count": 2,
   "id": "66da6ad5",
   "metadata": {
    "ExecutionIndicator": {
     "show": true
    },
    "execution": {
     "iopub.execute_input": "2025-01-20T09:15:50.561878Z",
     "iopub.status.busy": "2025-01-20T09:15:50.561177Z",
     "iopub.status.idle": "2025-01-20T09:15:50.573289Z",
     "shell.execute_reply": "2025-01-20T09:15:50.572511Z",
     "shell.execute_reply.started": "2025-01-20T09:15:50.561842Z"
    },
    "tags": []
   },
   "outputs": [],
   "source": [
    "file_prefix = \"/mnt/workspace\"\n",
    "config_path = os.path.join(file_prefix, \"config.yaml\")\n",
    "with open(config_path, \"r\", encoding=\"utf-8\") as config_file:\n",
    "    config = yaml.safe_load(config_file)"
   ]
  },
  {
   "cell_type": "code",
   "execution_count": 3,
   "id": "e81c0c31-0c84-4975-a83a-4824420a85ec",
   "metadata": {
    "execution": {
     "iopub.execute_input": "2025-01-20T09:15:50.574348Z",
     "iopub.status.busy": "2025-01-20T09:15:50.574060Z",
     "iopub.status.idle": "2025-01-20T09:15:50.578816Z",
     "shell.execute_reply": "2025-01-20T09:15:50.578199Z",
     "shell.execute_reply.started": "2025-01-20T09:15:50.574320Z"
    },
    "tags": []
   },
   "outputs": [],
   "source": [
    "def parse_response(pattern, response: str) -> str:\n",
    "    match = re.search(pattern, response, re.S)\n",
    "    if match:\n",
    "        return match.group(1).strip()\n",
    "    else:\n",
    "        print(\"c Error: Response error from LLM.\")\n",
    "        return None"
   ]
  },
  {
   "cell_type": "code",
   "execution_count": 4,
   "id": "4a69e29a-ecbf-49c5-840b-2ba05ce5e430",
   "metadata": {
    "ExecutionIndicator": {
     "show": true
    },
    "execution": {
     "iopub.execute_input": "2025-01-20T09:15:50.579931Z",
     "iopub.status.busy": "2025-01-20T09:15:50.579499Z",
     "iopub.status.idle": "2025-01-20T09:15:50.589271Z",
     "shell.execute_reply": "2025-01-20T09:15:50.588616Z",
     "shell.execute_reply.started": "2025-01-20T09:15:50.579897Z"
    },
    "tags": []
   },
   "outputs": [],
   "source": [
    "def get_extractor_prompt(file):\n",
    "    system_content = config[\"role\"][\"extractor\"][\"system_content\"]\n",
    "    user_content = config[\"role\"][\"extractor\"][\"user_content\"]\n",
    "    with open(file, \"r\", encoding=\"utf-8\") as f:\n",
    "        source_code = f.read()\n",
    "    user_content = user_content.format(source_code=source_code)\n",
    "    return system_content, user_content\n",
    "\n",
    "\n",
    "def extract_css_and_js(image, file):\n",
    "    model_name = \"Qwen/Qwen2-VL-7B-Instruct\"\n",
    "    extractor = Qwen2VLForConditionalGeneration.from_pretrained(\n",
    "        model_name, torch_dtype=\"auto\", device_map=\"auto\"\n",
    "    )\n",
    "    processor = AutoProcessor.from_pretrained(model_name)\n",
    "    \n",
    "    system_content, user_content = get_extractor_prompt(file)\n",
    "    messages = [\n",
    "        {\"role\": \"system\", \"content\": system_content},\n",
    "        {\n",
    "            \"role\": \"user\", \n",
    "            \"content\": [\n",
    "                {\n",
    "                    \"type\": \"image\",\n",
    "                    \"image\": f\"file://{image}\",\n",
    "                },\n",
    "                {\"type\": \"text\", \"text\": user_content},\n",
    "            ]\n",
    "        }\n",
    "    ]\n",
    "    text = processor.apply_chat_template(\n",
    "        messages, tokenize=False, add_generation_prompt=True\n",
    "    )\n",
    "    image_inputs, video_inputs = process_vision_info(messages)\n",
    "    inputs = processor(\n",
    "        text=[text],\n",
    "        images=image_inputs,\n",
    "        videos=video_inputs,\n",
    "        padding=True,\n",
    "        return_tensors=\"pt\",\n",
    "    )\n",
    "    inputs = inputs.to(\"cuda\")\n",
    "    generated_ids = extractor.generate(**inputs, max_new_tokens=8192)\n",
    "    generated_ids_trimmed = [\n",
    "        out_ids[len(in_ids): ] for in_ids, out_ids in zip(inputs.input_ids, generated_ids)\n",
    "    ]\n",
    "    response = processor.batch_decode(\n",
    "        generated_ids_trimmed, skip_special_tokens=True, clean_up_tokenization_spaces=False\n",
    "    )[0]\n",
    "    \n",
    "    del extractor\n",
    "    del processor\n",
    "    gc.collect()\n",
    "    torch.cuda.empty_cache()\n",
    "    \n",
    "    css = parse_response(pattern=r\"\\[\\[## css ##\\]\\]\\n(.*?)\\n\\[\\[## js ##\\]\\]\", response=response)\n",
    "    js = parse_response(pattern=r\"\\[\\[## js ##\\]\\]\\n(.*?)\\n\\[\\[## completed ##\\]\\]\", response=response)\n",
    "    return css, js"
   ]
  },
  {
   "cell_type": "code",
   "execution_count": 5,
   "id": "8bc47462-7e0a-4a40-87f4-7863ff04411a",
   "metadata": {
    "ExecutionIndicator": {
     "show": true
    },
    "execution": {
     "iopub.execute_input": "2025-01-20T09:15:50.591181Z",
     "iopub.status.busy": "2025-01-20T09:15:50.590874Z",
     "iopub.status.idle": "2025-01-20T09:18:18.975874Z",
     "shell.execute_reply": "2025-01-20T09:18:18.975138Z",
     "shell.execute_reply.started": "2025-01-20T09:15:50.591152Z"
    },
    "tags": []
   },
   "outputs": [
    {
     "name": "stdout",
     "output_type": "stream",
     "text": [
      "Downloading Model to directory: /mnt/workspace/.cache/modelscope/Qwen/Qwen2-VL-7B-Instruct\n"
     ]
    },
    {
     "name": "stderr",
     "output_type": "stream",
     "text": [
      "`Qwen2VLRotaryEmbedding` can now be fully parameterized by passing the model config through the `config` argument. All other arguments will be removed in v4.46\n"
     ]
    },
    {
     "data": {
      "application/vnd.jupyter.widget-view+json": {
       "model_id": "da975614aed74b4ba6151d14df026346",
       "version_major": 2,
       "version_minor": 0
      },
      "text/plain": [
       "Loading checkpoint shards:   0%|          | 0/5 [00:00<?, ?it/s]"
      ]
     },
     "metadata": {},
     "output_type": "display_data"
    },
    {
     "name": "stdout",
     "output_type": "stream",
     "text": [
      "Downloading Model to directory: /mnt/workspace/.cache/modelscope/Qwen/Qwen2-VL-7B-Instruct\n"
     ]
    },
    {
     "data": {
      "text/plain": [
       "(\"```css\\n* {\\n  border: 0;\\n  box-sizing: border-box;\\n  margin: 0;\\n  padding: 0;\\n}\\n\\n:root {\\n  --hue: 223;\\n  --bg: hsl(var(--hue), 10%, 90%);\\n  --fg: hsl(var(--hue), 10%, 10%);\\n  --trans-dur: 0.5s;\\n  --trans-timing1: cubic-bezier(0.65, 0, 0.35, 1);\\n  --trans-timing2: cubic-bezier(0.65, 0, 0.35, 1.5);\\n  font-size: calc(56px + (120 - 56) * (100vw - 280px) / (3840 - 280));\\n}\\n\\nbody,\\ninput {\\n  color: var(--fg);\\n  font: 1em/1.5 sans-serif;\\n  transition: background-color var(--trans-dur) var(--trans-timing1), color\\n      var(--trans-dur) var(--trans-timing1);\\n}\\n\\nbody {\\n  background-color: var(--bg);\\n  display: flex;\\n  height: 100vh;\\n}\\n\\n.switch {\\n  display: flex;\\n  margin: auto;\\n}\\n\\n.switch__emoji {\\n  box-shadow: 0.25em 0.25em 0.125em rgba(0, 0, 0, 0.3);\\n  overflow: hidden;\\n  pointer-events: none;\\n  top: 0.25em;\\n  left: 0.25em;\\n  width: 1em;\\n  height: 1em;\\n}\\n\\n[dir='rtl'] .switch__emoji {\\n  right: 0.25em;\\n  left: auto;\\n}\\n\\n.switch__emoji,\\n.switch__emoji:before,\\n.switch__emoji:after,\\n.switch__emoji-eye,\\n.switch__emoji-mouth,\\n.switch__emoji-face {\\n  display: block;\\n  position: absolute;\\n}\\n\\n.switch__emoji,\\n.switch__emoji:before,\\n.switch__emoji:after,\\n.switch__emoji-eye,\\n.switch__emoji-mouth {\\n  border-radius: 50%;\\n}\\n\\n.switch__emoji:before,\\n.switch__emoji:after {\\n  content: '';\\n  width: 100%;\\n  height: 100%;\\n  transform: translateZ(0);\\n}\\n\\n.switch__emoji:before {\\n  background-color: #f2c40d;\\n  box-shadow: -0.25em -0.25em 0.25em #c29d0a inset, 0.1875em 0.1875em\\n      0.25em #f9e286 inset;\\n}\\n\\n.switch__emoji:after {\\n  box-shadow: 0 0 0.125em 0.0625em rgba(245, 208, 61, 0.5) inset;\\n}\\n\\n.switch__emoji,\\n.switch__emoji-face {\\n  transform-style: preserve-3d;\\n  transition: transform var(--trans-dur) var(--trans-timing2);\\n}\\n\\n.switch__emoji-eye,\\n.switch__emoji-mouth {\\n  backface-visibility: hidden;\\n}\\n\\n.switch__emoji-eye {\\n  border: 0.0625em solid hsl(var(--hue), 10%, 10%);\\n  border-right-color: transparent;\\n  border-bottom-color: transparent;\\n  border-radius: 50%;\\n  top: 50%;\\n  left: 50%;\\n  width: 0.25em;\\n  height: 0.25em;\\n  transform: translate(-50%, -50%) rotateY(-22.5deg) translateZ(0.5em) rotateZ(\\n      45deg\\n    );\\n}\\n\\n.switch__emoji-eye + .switch__emoji-eye {\\n  transform: translate(-50%, -50%) rotateY(22.5deg) translateZ(0.5em) rotateZ(\\n      45deg\\n    );\\n}\\n\\n.switch__emoji-mouth {\\n  background-image: radial-gradient(\\n      100% 100% at 50% 100%,\\n      #f2180d 20%,\\n      #f5463d 33%,\\n      rgba(245, 70, 61, 0) 35%\\n    ), radial-gradient(\\n        100% 100% at 75% 113%,\\n        black 26%,\\n        rgba(0, 0, 0, 0) 35%\\n      ), linear-gradient(rgba(0, 0, 0, 0) 50%, black 50% 55%, hsl(\\n          var(--hue),\\n          10%,\\n          10%\\n        ) 65%);\\n  top: 50%;\\n  left: 50%;\\n  width: 0.5em;\\n  height: 0.5em;\\n  transform: translate(-50%, -50%) rotateX(-15deg) translateZ(0.5em);\\n}\\n\\n.switch__emoji-face {\\n  top: 0;\\n  left: 0;\\n  width: 100%;\\n  height: 100%;\\n  transform: rotateY(0);\\n}\\n\\n.switch__emoji-face + .switch__emoji-face {\\n  transform: rotateY(-180deg);\\n}\\n\\n.switch__emoji-face--sad .switch__emoji-eye {\\n  background-color: hsl(var(--hue), 10%, 10%);\\n  border: 0;\\n  width: 0.1875em;\\n  height: 0.1875em;\\n}\\n\\n.switch__emoji-face--sad .switch__emoji-mouth {\\n  background-image: none;\\n  border: 0.0625em solid transparent;\\n  border-top-color: hsl(var(--hue), 10%, 10%);\\n  transform: translate(-50%, 0) rotateX(-20deg) translateZ(0.5em);\\n}\\n\\n.switch__input,\\n.switch__label {\\n  -webkit-tap-highlight-color: transparent;\\n}\\n\\n.switch__input {\\n  background-color: hsl(var(--hue), 10%, 80%);\\n  border-radius: 0.75em;\\n  box-shadow: 0.0625em 0.0625em 0.0625em white inset, -0.0625em -0.0625em\\n      0.0625em hsl(var(--hue), 10%, 80%) inset,\\n    0 0 0 0.125em hsl(var(--hue), 10%, 90%) inset, 0.25em 0.25em 0.125em\\n        rgba(0, 0, 0, 0.3) inset,\\n    0.0625em 0.0625em 0.0625em rgba(0, 0, 0, 0.3);\\n  cursor: pointer;\\n  display: block;\\n  width: 2.5em;\\n  height: 1.5em;\\n  -webkit-appearance: none;\\n  appearance: none;\\n  transition: background-color var(--trans-dur) var(--trans-timing1), box-shadow\\n      var(--trans-dur) var(--trans-timing1);\\n}\\n\\n.switch__input:checked {\\n  background-color: #0ac213;\\n}\\n\\n.switch__input:checked + .switch__emoji {\\n  transform: translateX(100%);\\n}\\n\\n[dir='rtl'] .switch__input:checked + .switch__emoji {\\n  transform: translateX(-100%);\\n}\\n\\n.switch__input:checked + .switch__emoji .switch__emoji-face {\\n  transform: rotateY(179.99deg);\\n}\\n\\n[dir='rtl'] .switch__input:checked + .switch__emoji .switch__emoji-face {\\n  transform: rotateY(-179.99deg);\\n}\\n\\n.switch__input:checked\\n  + .switch__emoji\\n  .switch__emoji-face\\n  + .switch__emoji-face {\\n  transform: rotateY(0);\\n}\\n\\n[dir='rtl']\\n  .switch__input:checked\\n  + .switch__emoji\\n  .switch__emoji-face\\n  + .switch__emoji-face {\\n  transform: rotateY(-360deg);\\n}\\n\\n.switch__label,\\n.switch__wrapper {\\n  display: block;\\n}\\n\\n.switch__label {\\n  margin-inline-start: 0.5em;\\n  overflow: hidden;\\n  position: absolute;\\n  width: 1px;\\n  height: 1px;\\n}\\n\\n.switch__wrapper {\\n  position: relative;\\n}\\n\\n/* Dark theme */\\n@media (prefers-color-scheme: dark) {\\n  :root {\\n    --bg: hsl(var(--hue), 10%, 10%);\\n    --fg: hsl(var(--hue), 10%, 90%);\\n  }\\n\\n  .switch__input {\\n    background-color: hsl(var(--hue), 10%, 20%);\\n    box-shadow: 0.0625em 0.0625em 0.0625em hsl(var(--hue), 10%, 25%) inset,\\n      -0.0625em -0.0625em 0.0625em hsl(var(--hue), 10%, 20%) inset,\\n      0 0 0 0.125em hsl(var(--hue), 10%, 30%) inset, 0.25em 0.25em 0.125em\\n          rgba(0, 0, 0, 0.3) inset,\\n      0.0625em 0.0625em 0.0625em rgba(0, 0, 0, 0.3);\\n  }\\n}\\n```\",\n",
       " '```js\\n// No JavaScript code found in the provided source code.\\n```')"
      ]
     },
     "execution_count": 5,
     "metadata": {},
     "output_type": "execute_result"
    }
   ],
   "source": [
    "css, js = extract_css_and_js(os.path.join(file_prefix, \"test.png\"), os.path.join(file_prefix, \"test.html\"))\n",
    "css, js"
   ]
  },
  {
   "cell_type": "code",
   "execution_count": 6,
   "id": "c4d41c95-52e0-4bc7-a807-0cf5e1b746d7",
   "metadata": {
    "ExecutionIndicator": {
     "show": true
    },
    "execution": {
     "iopub.execute_input": "2025-01-20T09:18:18.976854Z",
     "iopub.status.busy": "2025-01-20T09:18:18.976578Z",
     "iopub.status.idle": "2025-01-20T09:18:18.983266Z",
     "shell.execute_reply": "2025-01-20T09:18:18.982432Z",
     "shell.execute_reply.started": "2025-01-20T09:18:18.976832Z"
    },
    "tags": []
   },
   "outputs": [],
   "source": [
    "def get_optimizer_prompt(css, js):\n",
    "    system_content = config[\"role\"][\"optimizer\"][\"system_content\"]\n",
    "    user_content = config[\"role\"][\"optimizer\"][\"user_content\"].format(source_css=css, source_js=js)\n",
    "    return system_content, user_content\n",
    "\n",
    "\n",
    "# 处理上传文件并生成代码\n",
    "def optimize_css_and_js(css, js):\n",
    "    model_name = \"Qwen/Qwen2.5-Coder-7B-Instruct\"\n",
    "    optimizer = AutoModelForCausalLM.from_pretrained(\n",
    "        model_name,\n",
    "        torch_dtype=\"auto\",\n",
    "        device_map=\"auto\"\n",
    "    )\n",
    "    tokenizer = AutoTokenizer.from_pretrained(model_name)\n",
    "\n",
    "    # 构造 LLM 输入\n",
    "    system_content, user_content = get_optimizer_prompt(css, js)\n",
    "    messages = [\n",
    "        {\"role\": \"system\", \"content\": system_content},\n",
    "        {\"role\": \"user\", \"content\": user_content}\n",
    "    ]\n",
    "\n",
    "    # 优化 css、js 代码\n",
    "    text = tokenizer.apply_chat_template(\n",
    "        messages,\n",
    "        tokenize=False,\n",
    "        add_generation_prompt=True\n",
    "    )\n",
    "    model_inputs = tokenizer([text], return_tensors=\"pt\").to(optimizer.device)\n",
    "\n",
    "    generated_ids = optimizer.generate(\n",
    "        **model_inputs,\n",
    "        max_new_tokens=8192\n",
    "    )\n",
    "    generated_ids = [\n",
    "        output_ids[len(input_ids):] for input_ids, output_ids in zip(model_inputs.input_ids, generated_ids)\n",
    "    ]\n",
    "\n",
    "    # 解析大模型输出，拆分成 js + css\n",
    "    response = tokenizer.batch_decode(generated_ids, skip_special_tokens=True)[0]\n",
    "    \n",
    "    del optimizer\n",
    "    del tokenizer\n",
    "    gc.collect()\n",
    "    torch.cuda.empty_cache()\n",
    "    \n",
    "    css = parse_response(pattern=r\"\\[\\[## optimized_css ##\\]\\]\\n(.*?)\\n\\[\\[## optimized_js ##\\]\\]\", response=response)\n",
    "    js = parse_response(pattern=r\"\\[\\[## optimized_js ##\\]\\]\\n(.*?)\\n\\[\\[## completed ##\\]\\]\", response=response)\n",
    "    \n",
    "    return css, js"
   ]
  },
  {
   "cell_type": "code",
   "execution_count": 7,
   "id": "c741ea17-f4ec-4344-a7a1-963fe75fa315",
   "metadata": {
    "ExecutionIndicator": {
     "show": true
    },
    "execution": {
     "iopub.execute_input": "2025-01-20T09:18:18.984466Z",
     "iopub.status.busy": "2025-01-20T09:18:18.984045Z",
     "iopub.status.idle": "2025-01-20T09:20:13.769655Z",
     "shell.execute_reply": "2025-01-20T09:20:13.768970Z",
     "shell.execute_reply.started": "2025-01-20T09:18:18.984434Z"
    },
    "tags": []
   },
   "outputs": [
    {
     "name": "stdout",
     "output_type": "stream",
     "text": [
      "Downloading Model to directory: /mnt/workspace/.cache/modelscope/Qwen/Qwen2.5-Coder-7B-Instruct\n"
     ]
    },
    {
     "name": "stderr",
     "output_type": "stream",
     "text": [
      "2025-01-20 17:18:19,794 - modelscope - INFO - Creating symbolic link [/mnt/workspace/.cache/modelscope/Qwen/Qwen2.5-Coder-7B-Instruct].\n",
      "2025-01-20 17:18:19,795 - modelscope - WARNING - Failed to create symbolic link /mnt/workspace/.cache/modelscope/Qwen/Qwen2.5-Coder-7B-Instruct for /mnt/workspace/.cache/modelscope/Qwen/Qwen2___5-Coder-7B-Instruct.\n"
     ]
    },
    {
     "data": {
      "application/vnd.jupyter.widget-view+json": {
       "model_id": "a1f4b55070f24441a3635592d7f113a9",
       "version_major": 2,
       "version_minor": 0
      },
      "text/plain": [
       "Loading checkpoint shards:   0%|          | 0/4 [00:00<?, ?it/s]"
      ]
     },
     "metadata": {},
     "output_type": "display_data"
    },
    {
     "name": "stdout",
     "output_type": "stream",
     "text": [
      "Downloading Model to directory: /mnt/workspace/.cache/modelscope/Qwen/Qwen2.5-Coder-7B-Instruct\n"
     ]
    },
    {
     "name": "stderr",
     "output_type": "stream",
     "text": [
      "2025-01-20 17:18:38,958 - modelscope - INFO - Creating symbolic link [/mnt/workspace/.cache/modelscope/Qwen/Qwen2.5-Coder-7B-Instruct].\n",
      "2025-01-20 17:18:38,958 - modelscope - WARNING - Failed to create symbolic link /mnt/workspace/.cache/modelscope/Qwen/Qwen2.5-Coder-7B-Instruct for /mnt/workspace/.cache/modelscope/Qwen/Qwen2___5-Coder-7B-Instruct.\n"
     ]
    },
    {
     "data": {
      "text/plain": [
       "(\"```css\\n:root {\\n  --hue: 223;\\n  --bg: hsl(var(--hue), 10%, 90%);\\n  --fg: hsl(var(--hue), 10%, 10%);\\n  --trans-dur: 0.5s;\\n  --trans-timing1: cubic-bezier(0.65, 0, 0.35, 1);\\n  --trans-timing2: cubic-bezier(0.65, 0, 0.35, 1.5);\\n  font-size: calc(56px + (120 - 56) * (100vw - 280px) / (3840 - 280));\\n}\\n\\n.component {\\n  background-color: var(--bg);\\n  display: flex;\\n  height: 100vh;\\n}\\n\\n.switch {\\n  display: flex;\\n  margin: auto;\\n}\\n\\n.switch__emoji {\\n  box-shadow: 0.25em 0.25em 0.125em rgba(0, 0, 0, 0.3);\\n  overflow: hidden;\\n  pointer-events: none;\\n  top: 0.25em;\\n  left: 0.25em;\\n  width: 1em;\\n  height: 1em;\\n}\\n\\n[dir='rtl'] .switch__emoji {\\n  right: 0.25em;\\n  left: auto;\\n}\\n\\n.switch__emoji,\\n.switch__emoji:before,\\n.switch__emoji:after,\\n.switch__emoji-eye,\\n.switch__emoji-mouth,\\n.switch__emoji-face {\\n  display: block;\\n  position: absolute;\\n}\\n\\n.switch__emoji,\\n.switch__emoji:before,\\n.switch__emoji:after,\\n.switch__emoji-eye,\\n.switch__emoji-mouth {\\n  border-radius: 50%;\\n}\\n\\n.switch__emoji:before,\\n.switch__emoji:after {\\n  content: '';\\n  width: 100%;\\n  height: 100%;\\n  transform: translateZ(0);\\n}\\n\\n.switch__emoji:before {\\n  background-color: #f2c40d;\\n  box-shadow: -0.25em -0.25em 0.25em #c29d0a inset, 0.1875em 0.1875em\\n      0.25em #f9e286 inset;\\n}\\n\\n.switch__emoji:after {\\n  box-shadow: 0 0 0.125em 0.0625em rgba(245, 208, 61, 0.5) inset;\\n}\\n\\n.switch__emoji,\\n.switch__emoji-face {\\n  transform-style: preserve-3d;\\n  transition: transform var(--trans-dur) var(--trans-timing2);\\n}\\n\\n.switch__emoji-eye,\\n.switch__emoji-mouth {\\n  backface-visibility: hidden;\\n}\\n\\n.switch__emoji-eye {\\n  border: 0.0625em solid hsl(var(--hue), 10%, 10%);\\n  border-right-color: transparent;\\n  border-bottom-color: transparent;\\n  border-radius: 50%;\\n  top: 50%;\\n  left: 50%;\\n  width: 0.25em;\\n  height: 0.25em;\\n  transform: translate(-50%, -50%) rotateY(-22.5deg) translateZ(0.5em) rotateZ(\\n      45deg\\n    );\\n}\\n\\n.switch__emoji-eye + .switch__emoji-eye {\\n  transform: translate(-50%, -50%) rotateY(22.5deg) translateZ(0.5em) rotateZ(\\n      45deg\\n    );\\n}\\n\\n.switch__emoji-mouth {\\n  background-image: radial-gradient(\\n      100% 100% at 50% 100%,\\n      #f2180d 20%,\\n      #f5463d 33%,\\n      rgba(245, 70, 61, 0) 35%\\n    ), radial-gradient(\\n        100% 100% at 75% 113%,\\n        black 26%,\\n        rgba(0, 0, 0, 0) 35%\\n      ), linear-gradient(rgba(0, 0, 0, 0) 50%, black 50% 55%, hsl(\\n          var(--hue),\\n          10%,\\n          10%\\n        ) 65%);\\n  top: 50%;\\n  left: 50%;\\n  width: 0.5em;\\n  height: 0.5em;\\n  transform: translate(-50%, -50%) rotateX(-15deg) translateZ(0.5em);\\n}\\n\\n.switch__emoji-face {\\n  top: 0;\\n  left: 0;\\n  width: 100%;\\n  height: 100%;\\n  transform: rotateY(0);\\n}\\n\\n.switch__emoji-face + .switch__emoji-face {\\n  transform: rotateY(-180deg);\\n}\\n\\n.switch__emoji-face--sad .switch__emoji-eye {\\n  background-color: hsl(var(--hue), 10%, 10%);\\n  border: 0;\\n  width: 0.1875em;\\n  height: 0.1875em;\\n}\\n\\n.switch__emoji-face--sad .switch__emoji-mouth {\\n  background-image: none;\\n  border: 0.0625em solid transparent;\\n  border-top-color: hsl(var(--hue), 10%, 10%);\\n  transform: translate(-50%, 0) rotateX(-20deg) translateZ(0.5em);\\n}\\n\\n.switch__input,\\n.switch__label {\\n  -webkit-tap-highlight-color: transparent;\\n}\\n\\n.switch__input {\\n  background-color: hsl(var(--hue), 10%, 80%);\\n  border-radius: 0.75em;\\n  box-shadow: 0.0625em 0.0625em 0.0625em white inset, -0.0625em -0.0625em\\n      0.0625em hsl(var(--hue), 10%, 80%) inset,\\n    0 0 0 0.125em hsl(var(--hue), 10%, 90%) inset, 0.25em 0.25em 0.125em\\n        rgba(0, 0, 0, 0.3) inset,\\n    0.0625em 0.0625em 0.0625em rgba(0, 0, 0, 0.3);\\n  cursor: pointer;\\n  display: block;\\n  width: 2.5em;\\n  height: 1.5em;\\n  -webkit-appearance: none;\\n  appearance: none;\\n  transition: background-color var(--trans-dur) var(--trans-timing1), box-shadow\\n      var(--trans-dur) var(--trans-timing1);\\n}\\n\\n.switch__input:checked {\\n  background-color: #0ac213;\\n}\\n\\n.switch__input:checked + .switch__emoji {\\n  transform: translateX(100%);\\n}\\n\\n[dir='rtl'] .switch__input:checked + .switch__emoji {\\n  transform: translateX(-100%);\\n}\\n\\n.switch__input:checked + .switch__emoji .switch__emoji-face {\\n  transform: rotateY(179.99deg);\\n}\\n\\n[dir='rtl'] .switch__input:checked + .switch__emoji .switch__emoji-face {\\n  transform: rotateY(-179.99deg);\\n}\\n\\n.switch__input:checked\\n  + .switch__emoji\\n  .switch__emoji-face\\n  + .switch__emoji-face {\\n  transform: rotateY(0);\\n}\\n\\n[dir='rtl']\\n  .switch__input:checked\\n  + .switch__emoji\\n  .switch__emoji-face\\n  + .switch__emoji-face {\\n  transform: rotateY(-360deg);\\n}\\n\\n.switch__label,\\n.switch__wrapper {\\n  display: block;\\n}\\n\\n.switch__label {\\n  margin-inline-start: 0.5em;\\n  overflow: hidden;\\n  position: absolute;\\n  width: 1px;\\n  height: 1px;\\n}\\n\\n.switch__wrapper {\\n  position: relative;\\n}\\n\\n/* Dark theme */\\n@media (prefers-color-scheme: dark) {\\n  :root {\\n    --bg: hsl(var(--hue), 10%, 10%);\\n    --fg: hsl(var(--hue), 10%, 90%);\\n  }\\n\\n  .switch__input {\\n    background-color: hsl(var(--hue), 10%, 20%);\\n    box-shadow: 0.0625em 0.0625em 0.0625em hsl(var(--hue), 10%, 25%) inset,\\n      -0.0625em -0.0625em 0.0625em hsl(var(--hue), 10%, 20%) inset,\\n      0 0 0 0.125em hsl(var(--hue), 10%, 30%) inset, 0.25em 0.25em 0.125em\\n          rgba(0, 0, 0, 0.3) inset,\\n      0.0625em 0.0625em 0.0625em rgba(0, 0, 0, 0.3);\\n  }\\n}\\n```\",\n",
       " '```js\\n// No JavaScript code found in the provided source code.\\n```')"
      ]
     },
     "execution_count": 7,
     "metadata": {},
     "output_type": "execute_result"
    }
   ],
   "source": [
    "css, js = optimize_css_and_js(css, js)\n",
    "css, js"
   ]
  },
  {
   "cell_type": "code",
   "execution_count": 8,
   "id": "5c6b0f7f-b2d7-491d-aff2-03d14f9738bf",
   "metadata": {
    "ExecutionIndicator": {
     "show": true
    },
    "execution": {
     "iopub.execute_input": "2025-01-20T09:20:13.770903Z",
     "iopub.status.busy": "2025-01-20T09:20:13.770554Z",
     "iopub.status.idle": "2025-01-20T09:20:14.128339Z",
     "shell.execute_reply": "2025-01-20T09:20:14.127783Z",
     "shell.execute_reply.started": "2025-01-20T09:20:13.770873Z"
    },
    "tags": []
   },
   "outputs": [
    {
     "name": "stdout",
     "output_type": "stream",
     "text": [
      "* Running on local URL:  http://127.0.0.1:7860\n",
      "\n",
      "To create a public link, set `share=True` in `launch()`.\n"
     ]
    },
    {
     "data": {
      "text/html": [
       "<div><iframe src=\"http://127.0.0.1:7860/\" width=\"100%\" height=\"500\" allow=\"autoplay; camera; microphone; clipboard-read; clipboard-write;\" frameborder=\"0\" allowfullscreen></iframe></div>"
      ],
      "text/plain": [
       "<IPython.core.display.HTML object>"
      ]
     },
     "metadata": {},
     "output_type": "display_data"
    },
    {
     "data": {
      "text/plain": []
     },
     "execution_count": 8,
     "metadata": {},
     "output_type": "execute_result"
    }
   ],
   "source": [
    "# 构建 Gradio 界面\n",
    "with gr.Blocks() as demo:\n",
    "    gr.Markdown(\"<center><h1>组件复制门</h1></center>\")\n",
    "    gr.Markdown(\"### 输入您想提取的组件截图和源码\")\n",
    "    with gr.Row():\n",
    "        with gr.Column(scale=1):\n",
    "            image_input = gr.Image(label=\"上传图片(png文件)\", type=\"filepath\")\n",
    "        with gr.Column(scale=1):\n",
    "            file_input = gr.File(label=\"上传文件\", interactive=True, container=True)\n",
    "            submit_btn = gr.Button(\"提交\")\n",
    "\n",
    "    with gr.Row():\n",
    "        with gr.Column(scale=1):\n",
    "            gr.Markdown(\"### 提取的 CSS 代码\")\n",
    "            extracted_css = gr.Code(label=\"CSS 代码\", language=\"css\")\n",
    "        with gr.Column(scale=1):\n",
    "            gr.Markdown(\"### 提取的 JS 代码\")\n",
    "            extracted_js = gr.Code(label=\"JavaScript 代码\", language=\"javascript\")\n",
    "    optimize_btn = gr.Button(\"优化代码\")\n",
    "\n",
    "    with gr.Row():\n",
    "        with gr.Column(scale=1):\n",
    "            gr.Markdown(\"### 提取的 CSS 代码\")\n",
    "            optimized_css = gr.Code(label=\"CSS 代码\", language=\"css\", interactive=True)\n",
    "        with gr.Column(scale=1):\n",
    "            gr.Markdown(\"### 封装的的 JS 代码\")\n",
    "            optimized_js = gr.Code(label=\"JavaScript 代码\", language=\"javascript\", interactive=True)\n",
    "    gr.Markdown(\"<center><h3>封装组件表现效果</h3></center>###\")\n",
    "    ...\n",
    "\n",
    "    # 绑定交互逻辑\n",
    "    submit_btn.click(optimize_css_and_js, inputs=[image_input, file_input], outputs=[extracted_css, extracted_js])\n",
    "    optimize_btn.click(optimize_css_and_js, inputs=[extracted_css, extracted_js], outputs=[optimized_css, optimized_js])\n",
    "    \n",
    "\n",
    "# 运行 Gradio 应用\n",
    "demo.launch()"
   ]
  }
 ],
 "metadata": {
  "kernelspec": {
   "display_name": "Python 3 (ipykernel)",
   "language": "python",
   "name": "python3"
  },
  "language_info": {
   "codemirror_mode": {
    "name": "ipython",
    "version": 3
   },
   "file_extension": ".py",
   "mimetype": "text/x-python",
   "name": "python",
   "nbconvert_exporter": "python",
   "pygments_lexer": "ipython3",
   "version": "3.10.14"
  }
 },
 "nbformat": 4,
 "nbformat_minor": 5
}
